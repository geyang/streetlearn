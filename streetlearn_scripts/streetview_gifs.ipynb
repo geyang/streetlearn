{
 "cells": [
  {
   "cell_type": "code",
   "execution_count": 14,
   "outputs": [],
   "source": [
    "from glob import glob\n",
    "from PIL import Image\n",
    "from os.path import expanduser\n",
    "import cv2\n",
    "import numpy as np\n",
    "from pprint import pprint\n",
    "\n",
    "\n",
    "def blob2image(image_blob):\n",
    "    \"\"\"\n",
    "    \n",
    "    :param image_blob: \n",
    "    :return: Size(H, W, C) (208, 416, 3)\n",
    "    \"\"\"\n",
    "    img_array = np.frombuffer(image_blob, np.uint8)\n",
    "    return cv2.imdecode(img_array, 2 | 4)"
   ],
   "metadata": {
    "collapsed": false,
    "pycharm": {
     "name": "#%%\n",
     "is_executing": false
    }
   }
  },
  {
   "cell_type": "code",
   "execution_count": 9,
   "outputs": [
    {
     "name": "stdout",
     "text": [
      "['/Users/ge/fair/streetlearn/processed-data/manhattan/view_512/chunk_0004.npy',\n",
      " '/Users/ge/fair/streetlearn/processed-data/manhattan/view_512/chunk_0010.npy',\n",
      " '/Users/ge/fair/streetlearn/processed-data/manhattan/view_512/chunk_0011.npy',\n",
      " '/Users/ge/fair/streetlearn/processed-data/manhattan/view_512/chunk_0005.npy',\n",
      " '/Users/ge/fair/streetlearn/processed-data/manhattan/view_512/chunk_0013.npy',\n",
      " '/Users/ge/fair/streetlearn/processed-data/manhattan/view_512/chunk_0007.npy',\n",
      " '/Users/ge/fair/streetlearn/processed-data/manhattan/view_512/chunk_0006.npy',\n",
      " '/Users/ge/fair/streetlearn/processed-data/manhattan/view_512/chunk_0012.npy',\n",
      " '/Users/ge/fair/streetlearn/processed-data/manhattan/view_512/chunk_0016.npy',\n",
      " '/Users/ge/fair/streetlearn/processed-data/manhattan/view_512/chunk_0002.npy',\n",
      " '/Users/ge/fair/streetlearn/processed-data/manhattan/view_512/chunk_0003.npy',\n",
      " '/Users/ge/fair/streetlearn/processed-data/manhattan/view_512/chunk_0017.npy',\n",
      " '/Users/ge/fair/streetlearn/processed-data/manhattan/view_512/chunk_0001.npy',\n",
      " '/Users/ge/fair/streetlearn/processed-data/manhattan/view_512/chunk_0015.npy',\n",
      " '/Users/ge/fair/streetlearn/processed-data/manhattan/view_512/chunk_0014.npy',\n",
      " '/Users/ge/fair/streetlearn/processed-data/manhattan/view_512/chunk_0000.npy',\n",
      " '/Users/ge/fair/streetlearn/processed-data/manhattan/view_512/chunk_0025.npy',\n",
      " '/Users/ge/fair/streetlearn/processed-data/manhattan/view_512/chunk_0019.npy',\n",
      " '/Users/ge/fair/streetlearn/processed-data/manhattan/view_512/chunk_0018.npy',\n",
      " '/Users/ge/fair/streetlearn/processed-data/manhattan/view_512/chunk_0024.npy',\n",
      " '/Users/ge/fair/streetlearn/processed-data/manhattan/view_512/chunk_0026.npy',\n",
      " '/Users/ge/fair/streetlearn/processed-data/manhattan/view_512/chunk_0027.npy',\n",
      " '/Users/ge/fair/streetlearn/processed-data/manhattan/view_512/chunk_0023.npy',\n",
      " '/Users/ge/fair/streetlearn/processed-data/manhattan/view_512/chunk_0022.npy',\n",
      " '/Users/ge/fair/streetlearn/processed-data/manhattan/view_512/chunk_0008.npy',\n",
      " '/Users/ge/fair/streetlearn/processed-data/manhattan/view_512/chunk_0020.npy',\n",
      " '/Users/ge/fair/streetlearn/processed-data/manhattan/view_512/chunk_0021.npy',\n",
      " '/Users/ge/fair/streetlearn/processed-data/manhattan/view_512/chunk_0009.npy']\n"
     ],
     "output_type": "stream"
    }
   ],
   "source": [
    "coords = np.load(expanduser('~/fair/streetlearn/processed-data/manhattan/coords.npy'), allow_pickle=True)\n",
    "chunks = glob(expanduser(\"~/fair/streetlearn/processed-data/manhattan/view_512/*\"))\n",
    "pprint(chunks)"
   ],
   "metadata": {
    "collapsed": false,
    "pycharm": {
     "name": "#%%\n",
     "is_executing": false
    }
   }
  },
  {
   "cell_type": "code",
   "execution_count": 25,
   "outputs": [],
   "source": [
    "for i, path in enumerate(chunks):\n",
    "    data = np.load(path)\n",
    "    images = blob2image(data)\n",
    "    Image.fromarray(images[:, :, [2, 1, 0]]).save(f\"figures/example_view_{i:04d}.png\")\n",
    "    if i > 5:\n",
    "        break"
   ],
   "metadata": {
    "collapsed": false,
    "pycharm": {
     "name": "#%%\n",
     "is_executing": false
    }
   }
  },
  {
   "cell_type": "code",
   "execution_count": 17,
   "outputs": [
    {
     "name": "stdout",
     "text": [
      "(208, 416, 3)\n"
     ],
     "output_type": "stream"
    }
   ],
   "source": [
    "print(images.shape)"
   ],
   "metadata": {
    "collapsed": false,
    "pycharm": {
     "name": "#%%\n",
     "is_executing": false
    }
   }
  }
 ],
 "metadata": {
  "language_info": {
   "codemirror_mode": {
    "name": "ipython",
    "version": 2
   },
   "file_extension": ".py",
   "mimetype": "text/x-python",
   "name": "python",
   "nbconvert_exporter": "python",
   "pygments_lexer": "ipython2",
   "version": "2.7.6"
  },
  "kernelspec": {
   "name": "pycharm-c9b3e5d3",
   "language": "python",
   "display_name": "PyCharm (streetlearn)"
  },
  "pycharm": {
   "stem_cell": {
    "cell_type": "raw",
    "source": [],
    "metadata": {
     "collapsed": false
    }
   }
  }
 },
 "nbformat": 4,
 "nbformat_minor": 0
}