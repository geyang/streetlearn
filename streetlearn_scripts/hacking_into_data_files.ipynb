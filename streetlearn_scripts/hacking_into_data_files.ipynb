{
  "cells": [
    {
      "cell_type": "code",
      "execution_count": 50,
      "metadata": {
        "collapsed": true,
        "pycharm": {
          "is_executing": false
        }
      },
      "outputs": [],
      "source": "import numpy as np\nfrom os.path import expanduser\nfrom contextlib import closing\nfrom PIL import Image\nimport cv2\nimport plyvel\nfrom streetlearn.buff import streetlearn_pb2 as street\n"
    },
    {
      "cell_type": "code",
      "execution_count": 4,
      "outputs": [],
      "source": "db_path \u003d expanduser(\"~/fair/streetlearn/data/manhattan_512\")\n",
      "metadata": {
        "pycharm": {
          "metadata": false,
          "name": "#%%\n",
          "is_executing": false
        }
      }
    },
    {
      "cell_type": "code",
      "execution_count": 39,
      "outputs": [],
      "source": "with closing(plyvel.DB(db_path, create_if_missing\u003dFalse)) as db:\n    for k, v in db:\n        break",
      "metadata": {
        "pycharm": {
          "metadata": false,
          "name": "#%%\n",
          "is_executing": false
        }
      }
    },
    {
      "cell_type": "code",
      "execution_count": 41,
      "outputs": [
        {
          "data": {
            "text/plain": "44250"
          },
          "metadata": {},
          "output_type": "execute_result",
          "execution_count": 41
        }
      ],
      "source": "pano \u003d street.Pano()\npano.ParseFromString(v)",
      "metadata": {
        "pycharm": {
          "metadata": false,
          "name": "#%%\n",
          "is_executing": false
        }
      }
    },
    {
      "cell_type": "code",
      "execution_count": 42,
      "outputs": [
        {
          "data": {
            "text/plain": "\u0027---C2evFtaqagE-9Bb66SA\u0027"
          },
          "metadata": {},
          "output_type": "execute_result",
          "execution_count": 42
        }
      ],
      "source": "pano.id",
      "metadata": {
        "pycharm": {
          "metadata": false,
          "name": "#%%\n",
          "is_executing": false
        }
      }
    },
    {
      "cell_type": "code",
      "execution_count": 44,
      "outputs": [
        {
          "name": "stdout",
          "text": [
            "[\u0027\u0027]\n"
          ],
          "output_type": "stream"
        }
      ],
      "source": "print([pano.street_name])",
      "metadata": {
        "pycharm": {
          "metadata": false,
          "name": "#%%\n",
          "is_executing": false
        }
      }
    },
    {
      "cell_type": "code",
      "execution_count": 45,
      "outputs": [
        {
          "name": "stdout",
          "text": [
            "lat: 40.7476050088943\nlng: -73.9884955710861\n\n"
          ],
          "output_type": "stream"
        }
      ],
      "source": "print(pano.coords)",
      "metadata": {
        "pycharm": {
          "metadata": false,
          "name": "#%%\n",
          "is_executing": false
        }
      }
    },
    {
      "cell_type": "code",
      "execution_count": 46,
      "outputs": [
        {
          "name": "stdout",
          "text": [
            "18.67571097394335\n"
          ],
          "output_type": "stream"
        }
      ],
      "source": "print(pano.alt)",
      "metadata": {
        "pycharm": {
          "metadata": false,
          "name": "#%%\n",
          "is_executing": false
        }
      }
    },
    {
      "cell_type": "code",
      "execution_count": 47,
      "outputs": [
        {
          "data": {
            "text/plain": "bytes"
          },
          "metadata": {},
          "output_type": "execute_result",
          "execution_count": 47
        }
      ],
      "source": "img_blob \u003d pano.compressed_image\ntype(img_blob)",
      "metadata": {
        "pycharm": {
          "metadata": false,
          "name": "#%%\n",
          "is_executing": false
        }
      }
    },
    {
      "cell_type": "code",
      "execution_count": 35,
      "outputs": [
        {
          "name": "stdout",
          "text": [
            "43965\n"
          ],
          "output_type": "stream"
        }
      ],
      "source": "print(len(img_blob))",
      "metadata": {
        "pycharm": {
          "metadata": false,
          "name": "#%%\n",
          "is_executing": false
        }
      }
    },
    {
      "cell_type": "code",
      "execution_count": 51,
      "outputs": [
        {
          "name": "stderr",
          "text": [
            "/Users/geyang/anaconda3/envs/streetlearn-data/lib/python3.5/site-packages/ipykernel_launcher.py:1: DeprecationWarning: The binary mode of fromstring is deprecated, as it behaves surprisingly on unicode inputs. Use frombuffer instead\n  \"\"\"Entry point for launching an IPython kernel.\n"
          ],
          "output_type": "stream"
        }
      ],
      "source": "img_array \u003d np.fromstring(img_blob, np.uint8)\n",
      "metadata": {
        "pycharm": {
          "metadata": false,
          "name": "#%%\n",
          "is_executing": false
        }
      }
    },
    {
      "cell_type": "markdown",
      "source": "https://codeyarns.com/2015/01/23/how-to-specify-opencv-color-type-in-python/\n\nIn openCV, the image read pipeline seems to be defined by flags\n```c\nenum\n{\n    /* 8bit, color or not */\n    CV_LOAD_IMAGE_UNCHANGED  \u003d-1,\n    /* 8bit, gray */\n    CV_LOAD_IMAGE_GRAYSCALE  \u003d0,\n    /* ?, color */\n    CV_LOAD_IMAGE_COLOR      \u003d1,\n    /* any depth, ? */\n    CV_LOAD_IMAGE_ANYDEPTH   \u003d2,\n    /* ?, any color */\n    CV_LOAD_IMAGE_ANYCOLOR   \u003d4\n};\n```",
      "metadata": {
        "pycharm": {
          "metadata": false,
          "name": "#%% md\n",
          "is_executing": false
        }
      }
    },
    {
      "cell_type": "code",
      "execution_count": null,
      "outputs": [],
      "source": "_ \u003d cv2.imdecode(img_array, 2 | 4)",
      "metadata": {
        "pycharm": {
          "metadata": false,
          "name": "#%%\n"
        }
      }
    },
    {
      "cell_type": "code",
      "execution_count": 58,
      "outputs": [
        {
          "data": {
            "text/plain": "numpy.ndarray"
          },
          "metadata": {},
          "output_type": "execute_result",
          "execution_count": 58
        }
      ],
      "source": "type(_)",
      "metadata": {
        "pycharm": {
          "metadata": false,
          "name": "#%%\n",
          "is_executing": false
        }
      }
    },
    {
      "cell_type": "code",
      "execution_count": 59,
      "outputs": [],
      "source": "img \u003d Image.fromarray(_)\nimg.show()",
      "metadata": {
        "pycharm": {
          "metadata": false,
          "name": "#%%\n",
          "is_executing": false
        }
      }
    },
    {
      "cell_type": "code",
      "execution_count": 60,
      "outputs": [
        {
          "data": {
            "text/plain": "(208, 416, 3)"
          },
          "metadata": {},
          "output_type": "execute_result",
          "execution_count": 60
        }
      ],
      "source": "_.shape\n",
      "metadata": {
        "pycharm": {
          "metadata": false,
          "name": "#%%\n",
          "is_executing": false
        }
      }
    }
  ],
  "metadata": {
    "language_info": {
      "codemirror_mode": {
        "name": "ipython",
        "version": 2
      },
      "file_extension": ".py",
      "mimetype": "text/x-python",
      "name": "python",
      "nbconvert_exporter": "python",
      "pygments_lexer": "ipython2",
      "version": "2.7.6"
    },
    "kernelspec": {
      "name": "python3",
      "language": "python",
      "display_name": "Python 3"
    }
  },
  "nbformat": 4,
  "nbformat_minor": 0
}